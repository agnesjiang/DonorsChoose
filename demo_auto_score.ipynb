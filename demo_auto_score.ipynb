{
 "cells": [
  {
   "cell_type": "code",
   "execution_count": 1,
   "metadata": {},
   "outputs": [
    {
     "name": "stdout",
     "output_type": "stream",
     "text": [
      "Hand Made Text Features..\n",
      "text Done\n",
      "project_resource_summary Done\n",
      "project_title Done\n",
      "description Done\n",
      "Teacher App Distribution:\n",
      "Two Apps: 74.0%\n",
      "One App: 26.0%\n",
      "\n",
      "Gender Distribution:\n",
      "Female: 89.0%\n",
      "Male: 9.0%\n",
      "Not Specified: 2.0%\n",
      "\n",
      "Dtypes of DF features:\n",
      " int64      67\n",
      "float64    13\n",
      "object      4\n",
      "dtype: int64\n",
      "\n",
      "DF Shape: 100 Rows, 84 Columns\n",
      "Vectorization Runtime: 0.00 Minutes\n",
      "output path:/home/bonnie_jz/demo/xgb_sub.csv\n",
      "    project_is_approved\n",
      "0              0.789122\n",
      "1              0.703589\n",
      "2              0.861970\n",
      "3              0.929883\n",
      "4              0.825211\n",
      "5              0.928750\n",
      "6              0.944439\n",
      "7              0.874868\n",
      "8              0.681787\n",
      "9              0.919918\n",
      "10             0.839833\n",
      "11             0.402046\n",
      "12             0.292796\n",
      "13             0.645356\n",
      "14             0.926989\n",
      "15             0.896517\n",
      "16             0.931404\n",
      "17             0.533385\n",
      "18             0.506577\n",
      "19             0.300044\n",
      "20             0.891243\n",
      "21             0.934117\n",
      "22             0.940727\n",
      "23             0.431941\n",
      "24             0.830415\n",
      "25             0.622558\n",
      "26             0.901551\n",
      "27             0.832971\n",
      "28             0.739521\n",
      "29             0.946092\n",
      "..                  ...\n",
      "70             0.838523\n",
      "71             0.907608\n",
      "72             0.896034\n",
      "73             0.509146\n",
      "74             0.510250\n",
      "75             0.812036\n",
      "76             0.835556\n",
      "77             0.325518\n",
      "78             0.866621\n",
      "79             0.837333\n",
      "80             0.961849\n",
      "81             0.195743\n",
      "82             0.668609\n",
      "83             0.544928\n",
      "84             0.767967\n",
      "85             0.886666\n",
      "86             0.215455\n",
      "87             0.489355\n",
      "88             0.880526\n",
      "89             0.796097\n",
      "90             0.915957\n",
      "91             0.922690\n",
      "92             0.787686\n",
      "93             0.905102\n",
      "94             0.913557\n",
      "95             0.928116\n",
      "96             0.886205\n",
      "97             0.932939\n",
      "98             0.789998\n",
      "99             0.357523\n",
      "\n",
      "[100 rows x 1 columns]\n"
     ]
    },
    {
     "ename": "ModuleNotFoundError",
     "evalue": "No module named 'auto_final.py'; 'auto_final' is not a package",
     "output_type": "error",
     "traceback": [
      "\u001b[0;31m---------------------------------------------------------------------------\u001b[0m",
      "\u001b[0;31mModuleNotFoundError\u001b[0m                       Traceback (most recent call last)",
      "\u001b[0;32m<ipython-input-1-5474f45f6817>\u001b[0m in \u001b[0;36m<module>\u001b[0;34m()\u001b[0m\n\u001b[0;32m----> 1\u001b[0;31m \u001b[0;32mimport\u001b[0m \u001b[0mauto_final\u001b[0m\u001b[0;34m.\u001b[0m\u001b[0mpy\u001b[0m\u001b[0;34m\u001b[0m\u001b[0m\n\u001b[0m",
      "\u001b[0;31mModuleNotFoundError\u001b[0m: No module named 'auto_final.py'; 'auto_final' is not a package"
     ]
    }
   ],
   "source": [
    "import auto_final.py"
   ]
  },
  {
   "cell_type": "code",
   "execution_count": null,
   "metadata": {},
   "outputs": [],
   "source": []
  }
 ],
 "metadata": {
  "kernelspec": {
   "display_name": "Python 3",
   "language": "python",
   "name": "python3"
  },
  "language_info": {
   "codemirror_mode": {
    "name": "ipython",
    "version": 3
   },
   "file_extension": ".py",
   "mimetype": "text/x-python",
   "name": "python",
   "nbconvert_exporter": "python",
   "pygments_lexer": "ipython3",
   "version": "3.6.4"
  }
 },
 "nbformat": 4,
 "nbformat_minor": 2
}
